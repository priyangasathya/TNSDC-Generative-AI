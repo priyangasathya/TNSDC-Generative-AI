{
  "cells": [
    {
      "cell_type": "code",
      "execution_count": null,
      "metadata": {
        "colab": {
          "base_uri": "https://localhost:8080/"
        },
        "id": "jr9dG8inMV_5",
        "outputId": "5b485083-19c3-4652-aa26-316a72de99c9"
      },
      "outputs": [
        {
          "output_type": "stream",
          "name": "stdout",
          "text": [
            "Downloading animal-detection-small-dataset, 6874991755 bytes compressed\n",
            "[==================================================] 6874991755 bytes downloaded\n",
            "Downloaded and uncompressed: animal-detection-small-dataset\n",
            "Downloading animal-classification, 434445864 bytes compressed\n",
            "[==================================================] 434445864 bytes downloaded\n",
            "Downloaded and uncompressed: animal-classification\n",
            "Downloading african-wildlife, 469442673 bytes compressed\n",
            "[==================================================] 469442673 bytes downloaded\n",
            "Downloaded and uncompressed: african-wildlife\n",
            "Downloading cheetahtigerwolf, 2692178008 bytes compressed\n",
            "[==================================================] 2692178008 bytes downloaded\n",
            "Downloaded and uncompressed: cheetahtigerwolf\n",
            "Data source import complete.\n"
          ]
        }
      ],
      "source": [
        "\n",
        "# IMPORTANT: RUN THIS CELL IN ORDER TO IMPORT YOUR KAGGLE DATA SOURCES\n",
        "# TO THE CORRECT LOCATION (/kaggle/input) IN YOUR NOTEBOOK,\n",
        "# THEN FEEL FREE TO DELETE THIS CELL.\n",
        "# NOTE: THIS NOTEBOOK ENVIRONMENT DIFFERS FROM KAGGLE'S PYTHON\n",
        "# ENVIRONMENT SO THERE MAY BE MISSING LIBRARIES USED BY YOUR\n",
        "# NOTEBOOK.\n",
        "\n",
        "import os\n",
        "import sys\n",
        "from tempfile import NamedTemporaryFile\n",
        "from urllib.request import urlopen\n",
        "from urllib.parse import unquote, urlparse\n",
        "from urllib.error import HTTPError\n",
        "from zipfile import ZipFile\n",
        "import tarfile\n",
        "import shutil\n",
        "\n",
        "CHUNK_SIZE = 40960\n",
        "DATA_SOURCE_MAPPING = 'animal-detection-small-dataset:https%3A%2F%2Fstorage.googleapis.com%2Fkaggle-data-sets%2F37898%2F57718%2Fbundle%2Farchive.zip%3FX-Goog-Algorithm%3DGOOG4-RSA-SHA256%26X-Goog-Credential%3Dgcp-kaggle-com%2540kaggle-161607.iam.gserviceaccount.com%252F20240401%252Fauto%252Fstorage%252Fgoog4_request%26X-Goog-Date%3D20240401T102528Z%26X-Goog-Expires%3D259200%26X-Goog-SignedHeaders%3Dhost%26X-Goog-Signature%3D88a4eddb26a8fb08a3b25b8b8c6edb2141e51c64a86be8dedda067c36f3f671000557a536a7b3a2de29d015ab4cb59d552a6cb8bd42103ede5e9bf68ca88b263c8cc90e226c0f22b8d8bd3c6288620c66ad0e85c61a5df07a3b187800b76dba9ba8243432e759a5cd01acf73d04df95aa79eaf62b362e0d6a8927b7477554e8502813896d71dd12145d90fdb7f3be27b6a1342beba8bef5a564a9b483dffc7730bc3e2020f5f94a4988c5e0f36b4ce4c94d631c0b5c3bc1525fc6a9f7dd72c21f87bd0eff27e4093603cc12d4e50e9d885267c90421fbd606dc4a0b1111d15b12fd0f34df0648c4bb9833ce165a9394543e1c75a31c90f5d78798a51dd9d1e70,animal-classification:https%3A%2F%2Fstorage.googleapis.com%2Fkaggle-data-sets%2F616920%2F1102439%2Fbundle%2Farchive.zip%3FX-Goog-Algorithm%3DGOOG4-RSA-SHA256%26X-Goog-Credential%3Dgcp-kaggle-com%2540kaggle-161607.iam.gserviceaccount.com%252F20240401%252Fauto%252Fstorage%252Fgoog4_request%26X-Goog-Date%3D20240401T102528Z%26X-Goog-Expires%3D259200%26X-Goog-SignedHeaders%3Dhost%26X-Goog-Signature%3D1cb5162a57882bca2668c1702b4c2b4e2e01f6571183155b063cc92527adad5bdb0d26cabf68c36c909e2fe0aedb9c3f616dd5e7d6a12fd9c660e5a29d5bd30e2560066cbb94706113f6673cef9c058303a081e746cae0168fbc4bbf6d6ee77f1ace2ce0f7041ed120a2ff7cf1f2a6c819024418423deb7b510d548e9221faf4dd96511bf9e974f3872c209fb3467425b3bba1099dadc1fc3762e4834cd5277ba280ed93f0ea522f5a5cd8c4c1d0511780f7be9f0dc128e4abc4f8cfd87c8f5b80aae12e8b6389de0305739ab176123d48f3621985eedf88c7c26f7b446bc729fa2e4669acc4406f340e69658da733b4b0645561441585467d524e4afa1ed3e7,african-wildlife:https%3A%2F%2Fstorage.googleapis.com%2Fkaggle-data-sets%2F674157%2F1185810%2Fbundle%2Farchive.zip%3FX-Goog-Algorithm%3DGOOG4-RSA-SHA256%26X-Goog-Credential%3Dgcp-kaggle-com%2540kaggle-161607.iam.gserviceaccount.com%252F20240401%252Fauto%252Fstorage%252Fgoog4_request%26X-Goog-Date%3D20240401T102528Z%26X-Goog-Expires%3D259200%26X-Goog-SignedHeaders%3Dhost%26X-Goog-Signature%3D16444e0cff6621fa60c1109e84779dc79ddbf9cbc1c1f1ef9310563cb6f7432402d70b2436e8867334212cb3d5b4bcc859b3b9cb95443d235cb248f1f1b9d41ea3fd48c43102efb8333b42bebe9e48e269b8bc2db1236288f3915d4236143cd87cfa48bfd485c809c78655d61922cc06af48cd43ee779cedfbf5983981528ddb135f51a3cfac5cc050242a58451b46765463ae9e59c604bb1c7a92a9e34cdeb14aa8cf6a784f1715bd0f6786f2617c3a72ba3150c85470076eff843b6a60b7ae784a0a860aa91cdc4b2b5a2a5900153cb5f45535e8cd1b4a49eba931131d3b3765be611aead5994ffcefcab95bd2fd1e3ae1f232c2f201a23f7526d81c863059,cheetahtigerwolf:https%3A%2F%2Fstorage.googleapis.com%2Fkaggle-data-sets%2F731756%2F1270998%2Fbundle%2Farchive.zip%3FX-Goog-Algorithm%3DGOOG4-RSA-SHA256%26X-Goog-Credential%3Dgcp-kaggle-com%2540kaggle-161607.iam.gserviceaccount.com%252F20240401%252Fauto%252Fstorage%252Fgoog4_request%26X-Goog-Date%3D20240401T102528Z%26X-Goog-Expires%3D259200%26X-Goog-SignedHeaders%3Dhost%26X-Goog-Signature%3D4cdddbf7b81ffb65b484229a23903a8aab07125011864d047f32100218210b7f2d0b223cc141a4c9fc7a8673ea60160fe93626cc614cd15d7aea9aaee75cda1ac03ff36fd7403d94850715e9b203ab352677278c13c1cee221538e29bed45ac252589956bad1359ffab4bf86ad43e3cd39aba7d93fadd9117bdf9819158ef0d964ee55e6d0f3407f195ea257b2ad21b60a4f8403c715cde2cbd30d2382a6fb9c3e0f335564ce2301fe3aa9f631857f1354aabe92c5da5fe4161584c00973bbe7e30e7f5fdd01ac2776efd203f90e078d5747800d2f2a5882d1e414c90f22655a9cfb7a76a446a72f284c89ada3a1398bb9bca922a8d06b31ca31656239af7df7'\n",
        "\n",
        "KAGGLE_INPUT_PATH='/kaggle/input'\n",
        "KAGGLE_WORKING_PATH='/kaggle/working'\n",
        "KAGGLE_SYMLINK='kaggle'\n",
        "\n",
        "!umount /kaggle/input/ 2> /dev/null\n",
        "shutil.rmtree('/kaggle/input', ignore_errors=True)\n",
        "os.makedirs(KAGGLE_INPUT_PATH, 0o777, exist_ok=True)\n",
        "os.makedirs(KAGGLE_WORKING_PATH, 0o777, exist_ok=True)\n",
        "\n",
        "try:\n",
        "  os.symlink(KAGGLE_INPUT_PATH, os.path.join(\"..\", 'input'), target_is_directory=True)\n",
        "except FileExistsError:\n",
        "  pass\n",
        "try:\n",
        "  os.symlink(KAGGLE_WORKING_PATH, os.path.join(\"..\", 'working'), target_is_directory=True)\n",
        "except FileExistsError:\n",
        "  pass\n",
        "\n",
        "for data_source_mapping in DATA_SOURCE_MAPPING.split(','):\n",
        "    directory, download_url_encoded = data_source_mapping.split(':')\n",
        "    download_url = unquote(download_url_encoded)\n",
        "    filename = urlparse(download_url).path\n",
        "    destination_path = os.path.join(KAGGLE_INPUT_PATH, directory)\n",
        "    try:\n",
        "        with urlopen(download_url) as fileres, NamedTemporaryFile() as tfile:\n",
        "            total_length = fileres.headers['content-length']\n",
        "            print(f'Downloading {directory}, {total_length} bytes compressed')\n",
        "            dl = 0\n",
        "            data = fileres.read(CHUNK_SIZE)\n",
        "            while len(data) > 0:\n",
        "                dl += len(data)\n",
        "                tfile.write(data)\n",
        "                done = int(50 * dl / int(total_length))\n",
        "                sys.stdout.write(f\"\\r[{'=' * done}{' ' * (50-done)}] {dl} bytes downloaded\")\n",
        "                sys.stdout.flush()\n",
        "                data = fileres.read(CHUNK_SIZE)\n",
        "            if filename.endswith('.zip'):\n",
        "              with ZipFile(tfile) as zfile:\n",
        "                zfile.extractall(destination_path)\n",
        "            else:\n",
        "              with tarfile.open(tfile.name) as tarfile:\n",
        "                tarfile.extractall(destination_path)\n",
        "            print(f'\\nDownloaded and uncompressed: {directory}')\n",
        "    except HTTPError as e:\n",
        "        print(f'Failed to load (likely expired) {download_url} to path {destination_path}')\n",
        "        continue\n",
        "    except OSError as e:\n",
        "        print(f'Failed to load {download_url} to path {destination_path}')\n",
        "        continue\n",
        "\n",
        "print('Data source import complete.')\n"
      ]
    },
    {
      "cell_type": "markdown",
      "metadata": {
        "id": "7daaOQA7MWAB"
      },
      "source": [
        "## Task 1: Importing Libraries"
      ]
    },
    {
      "cell_type": "code",
      "execution_count": null,
      "metadata": {
        "colab": {
          "base_uri": "https://localhost:8080/"
        },
        "id": "X68eNVsqMWAD",
        "outputId": "316c0785-429b-4a6a-d3c8-e84156b12769"
      },
      "outputs": [
        {
          "output_type": "stream",
          "name": "stdout",
          "text": [
            "Python version: 3.10.12\n",
            "Numpy version: 1.25.2\n",
            "Seaborn version: 0.13.1\n",
            "tensorflow version:  2.15.0\n",
            "keras version: 2.15.0\n"
          ]
        }
      ],
      "source": [
        "import keras\n",
        "import os\n",
        "import shutil\n",
        "import numpy as np\n",
        "import math\n",
        "import random\n",
        "import matplotlib.pyplot as plt\n",
        "import seaborn as sns\n",
        "sns.set()\n",
        "from platform import python_version\n",
        "\n",
        "print('Python version:', python_version())\n",
        "print('Numpy version:', np.__version__)\n",
        "print('Seaborn version:', sns.__version__)\n",
        "from distutils.dir_util import copy_tree\n",
        "import tensorflow as tf\n",
        "print('tensorflow version: ',tf.__version__)\n",
        "print('keras version:', keras.__version__)"
      ]
    },
    {
      "cell_type": "code",
      "execution_count": null,
      "metadata": {
        "colab": {
          "base_uri": "https://localhost:8080/"
        },
        "id": "rBONEE9FQLTt",
        "outputId": "1ab2c268-74df-4675-82f4-9fb85895db9a"
      },
      "outputs": [
        {
          "output_type": "stream",
          "name": "stdout",
          "text": [
            "Collecting keras-preprocessing\n",
            "  Downloading Keras_Preprocessing-1.1.2-py2.py3-none-any.whl (42 kB)\n",
            "\u001b[?25l     \u001b[90m━━━━━━━━━━━━━━━━━━━━━━━━━━━━━━━━━━━━━━━━\u001b[0m \u001b[32m0.0/42.6 kB\u001b[0m \u001b[31m?\u001b[0m eta \u001b[36m-:--:--\u001b[0m\r\u001b[2K     \u001b[90m━━━━━━━━━━━━━━━━━━━━━━━━━━━━━━━━━━━━━━━━\u001b[0m \u001b[32m42.6/42.6 kB\u001b[0m \u001b[31m1.9 MB/s\u001b[0m eta \u001b[36m0:00:00\u001b[0m\n",
            "\u001b[?25hRequirement already satisfied: numpy>=1.9.1 in /usr/local/lib/python3.10/dist-packages (from keras-preprocessing) (1.25.2)\n",
            "Requirement already satisfied: six>=1.9.0 in /usr/local/lib/python3.10/dist-packages (from keras-preprocessing) (1.16.0)\n",
            "Installing collected packages: keras-preprocessing\n",
            "Successfully installed keras-preprocessing-1.1.2\n"
          ]
        }
      ],
      "source": [
        "!pip install keras-preprocessing"
      ]
    },
    {
      "cell_type": "code",
      "execution_count": null,
      "metadata": {
        "id": "8-SSqXSxMWAE"
      },
      "outputs": [],
      "source": [
        "from keras.layers import Convolution2D\n",
        "from keras.layers import MaxPooling2D\n",
        "from keras.layers import Flatten\n",
        "from keras.layers import Dense\n",
        "from keras.models import Sequential\n",
        "from keras.layers import Dropout\n",
        "from keras_preprocessing.image import ImageDataGenerator"
      ]
    },
    {
      "cell_type": "markdown",
      "metadata": {
        "id": "pQw_wZjEMWAE"
      },
      "source": [
        "## Task 2: Dataset Creation"
      ]
    },
    {
      "cell_type": "code",
      "execution_count": null,
      "metadata": {
        "id": "hjL3D97qMWAF"
      },
      "outputs": [],
      "source": [
        "#created data set using console\n",
        "source='../input/african-wildlife/'\n",
        "target='./train_data/'\n",
        "shutil.copytree(source, target)\n",
        "os.mkdir('test_data')"
      ]
    },
    {
      "cell_type": "code",
      "execution_count": null,
      "metadata": {
        "id": "Y82PHOTdMWAF"
      },
      "outputs": [],
      "source": [
        "# remove unwanted data and create same classed for test_data\n",
        "\n",
        "path=\"./train_data/\"\n",
        "for file in os.listdir(path):\n",
        "    for image in os.listdir(path+file+'/'):\n",
        "        if '.jpg' not in image:\n",
        "            os.remove(path+file+'/'+image)\n",
        "    os.mkdir('./test_data/'+file)\n"
      ]
    },
    {
      "cell_type": "code",
      "execution_count": null,
      "metadata": {
        "colab": {
          "base_uri": "https://localhost:8080/"
        },
        "id": "ZFMbabaaMWAG",
        "outputId": "87897007-131e-40ee-80c1-11027bf3533e"
      },
      "outputs": [
        {
          "output_type": "stream",
          "name": "stdout",
          "text": [
            "zebra 376 94\n",
            "buffalo 375 94\n",
            "elephant 375 94\n",
            "rhino 375 94\n",
            "total train images are :  1125  and total train classes are :  4\n"
          ]
        }
      ],
      "source": [
        "# create test_data by taking 25% images from data\n",
        "\n",
        "total_train_images,total_test_images,total_train_classes,total_test_classes=0,0,0,0\n",
        "path=\"./train_data/\"\n",
        "for file in os.listdir(path):\n",
        "    total_train_classes+=1\n",
        "    total_images=len(os.listdir(path+file+\"/\"))\n",
        "    test_image_count=(25/100)*total_images #25% for test and 75% for train\n",
        "    for i in range(math.ceil(test_image_count)):\n",
        "        img=random.choice(os.listdir(path+file+'/'))\n",
        "        shutil.move(path+file+'/'+img,'./test_data/'+file+'/')\n",
        "        #print(img)\n",
        "    print(file,total_images,math.ceil(test_image_count))\n",
        "    total_train_images+=(total_images-math.ceil(test_image_count))\n",
        "    #print(file,math.ceil(test_image_count))\n",
        "print(\"total train images are : \",total_train_images,\" and total train classes are : \",total_train_classes)"
      ]
    },
    {
      "cell_type": "markdown",
      "metadata": {
        "id": "jFSnKEv9MWAH"
      },
      "source": [
        "## Task 3: Model Creation"
      ]
    },
    {
      "cell_type": "code",
      "execution_count": null,
      "metadata": {
        "id": "yiwMrS-nMWAH"
      },
      "outputs": [],
      "source": [
        "model = Sequential()"
      ]
    },
    {
      "cell_type": "code",
      "execution_count": null,
      "metadata": {
        "id": "-60ZT-xuMWAI"
      },
      "outputs": [],
      "source": [
        "#inputlayer : apply filters\n",
        "model.add(Convolution2D(filters=32,\n",
        "                        kernel_size=(3,3),\n",
        "                        strides=(1,1),\n",
        "                        padding='same',\n",
        "                        activation='relu',\n",
        "                   input_shape=(32, 32, 1)))"
      ]
    },
    {
      "cell_type": "code",
      "execution_count": null,
      "metadata": {
        "id": "w5m7n48LMWAI"
      },
      "outputs": [],
      "source": [
        "# pooling layer where we are doing maxpooling\n",
        "model.add(MaxPooling2D(pool_size=(2, 2)))"
      ]
    },
    {
      "cell_type": "code",
      "execution_count": null,
      "metadata": {
        "id": "VrIxWiokMWAI"
      },
      "outputs": [],
      "source": [
        "#adding one more convolution layer for better model\n",
        "model.add(Convolution2D(filters=32,\n",
        "                        kernel_size=(3,3),\n",
        "                        strides=(1,1),\n",
        "                        padding='same',\n",
        "                        activation='relu'\n",
        "                      ))"
      ]
    },
    {
      "cell_type": "code",
      "execution_count": null,
      "metadata": {
        "id": "qJI3rspiMWAJ"
      },
      "outputs": [],
      "source": [
        "#adding one more Pooling layer for better model\n",
        "model.add(MaxPooling2D(pool_size=(2, 2)))"
      ]
    },
    {
      "cell_type": "code",
      "execution_count": null,
      "metadata": {
        "id": "74NiWlJbMWAJ"
      },
      "outputs": [],
      "source": [
        "#dropout regularlization\n",
        "model.add(Dropout(0.5))"
      ]
    },
    {
      "cell_type": "code",
      "execution_count": null,
      "metadata": {
        "id": "a1b0TsCkMWAJ"
      },
      "outputs": [],
      "source": [
        "#layer in which we are converting 2d/3d image to 1d image i.e flattening\n",
        "model.add(Flatten())"
      ]
    },
    {
      "cell_type": "code",
      "execution_count": null,
      "metadata": {
        "id": "nxU1wymwMWAJ"
      },
      "outputs": [],
      "source": [
        "# layer: appling relu to give positive output from here our hidden layerrs starts\n",
        "model.add(Dense(units=20, activation='relu'))"
      ]
    },
    {
      "cell_type": "code",
      "execution_count": null,
      "metadata": {
        "id": "6m7QZ0ZAMWAJ"
      },
      "outputs": [],
      "source": [
        "#dropout regularlization\n",
        "model.add(Dropout(0.5))"
      ]
    },
    {
      "cell_type": "code",
      "execution_count": null,
      "metadata": {
        "id": "rhVoKq4wMWAK"
      },
      "outputs": [],
      "source": [
        "# output layer : Since we have to do multi-class classification so we'll apply softmax activation function\n",
        "# we have 4 classes of animals so output layer would have that many neurons.\n",
        "model.add(Dense(units=4, activation='softmax'))"
      ]
    },
    {
      "cell_type": "code",
      "execution_count": null,
      "metadata": {
        "id": "u2Q-4nN-MWAK"
      },
      "outputs": [],
      "source": [
        "model.compile(optimizer='adam', loss='categorical_crossentropy', metrics=['accuracy'])"
      ]
    },
    {
      "cell_type": "code",
      "execution_count": null,
      "metadata": {
        "colab": {
          "base_uri": "https://localhost:8080/"
        },
        "id": "MmQkEAdnMWAK",
        "outputId": "708072ae-e31a-49f4-f0f7-09f57e622941"
      },
      "outputs": [
        {
          "output_type": "stream",
          "name": "stdout",
          "text": [
            "Model: \"sequential\"\n",
            "_________________________________________________________________\n",
            " Layer (type)                Output Shape              Param #   \n",
            "=================================================================\n",
            " conv2d (Conv2D)             (None, 32, 32, 32)        320       \n",
            "                                                                 \n",
            " max_pooling2d (MaxPooling2  (None, 16, 16, 32)        0         \n",
            " D)                                                              \n",
            "                                                                 \n",
            " conv2d_1 (Conv2D)           (None, 16, 16, 32)        9248      \n",
            "                                                                 \n",
            " max_pooling2d_1 (MaxPoolin  (None, 8, 8, 32)          0         \n",
            " g2D)                                                            \n",
            "                                                                 \n",
            " dropout (Dropout)           (None, 8, 8, 32)          0         \n",
            "                                                                 \n",
            " flatten (Flatten)           (None, 2048)              0         \n",
            "                                                                 \n",
            " dense_1 (Dense)             (None, 20)                40980     \n",
            "                                                                 \n",
            " dropout_1 (Dropout)         (None, 20)                0         \n",
            "                                                                 \n",
            " dense_2 (Dense)             (None, 4)                 84        \n",
            "                                                                 \n",
            "=================================================================\n",
            "Total params: 50632 (197.78 KB)\n",
            "Trainable params: 50632 (197.78 KB)\n",
            "Non-trainable params: 0 (0.00 Byte)\n",
            "_________________________________________________________________\n"
          ]
        }
      ],
      "source": [
        "model.summary()"
      ]
    },
    {
      "cell_type": "markdown",
      "metadata": {
        "id": "3m0Scu_qMWAK"
      },
      "source": [
        "## Task 4: Image Augmentation"
      ]
    },
    {
      "cell_type": "code",
      "execution_count": null,
      "metadata": {
        "colab": {
          "base_uri": "https://localhost:8080/"
        },
        "id": "0TQMokuaMWAK",
        "outputId": "718884a3-80e0-42ea-df54-264005cc4549"
      },
      "outputs": [
        {
          "output_type": "stream",
          "name": "stdout",
          "text": [
            "Found 1125 images belonging to 4 classes.\n",
            "Found 376 images belonging to 4 classes.\n"
          ]
        }
      ],
      "source": [
        "#url : https://keras.io/api/preprocessing/image/\n",
        "train_datagen = ImageDataGenerator(\n",
        "        rescale=1./255,\n",
        "        shear_range=0.2,\n",
        "        zoom_range=0.2,\n",
        "        horizontal_flip=True)\n",
        "test_datagen = ImageDataGenerator(rescale=1./255)\n",
        "training_set = train_datagen.flow_from_directory(\n",
        "        './train_data/',\n",
        "        target_size=(32,32),\n",
        "        color_mode=\"grayscale\",\n",
        "        batch_size=64,\n",
        "        class_mode='categorical')\n",
        "test_set = test_datagen.flow_from_directory(\n",
        "        './test_data/',\n",
        "        target_size=(32,32),\n",
        "        color_mode=\"grayscale\",\n",
        "        batch_size=64,\n",
        "        class_mode='categorical')"
      ]
    },
    {
      "cell_type": "code",
      "execution_count": null,
      "metadata": {
        "colab": {
          "base_uri": "https://localhost:8080/"
        },
        "id": "Z5eXnqJdMWAL",
        "outputId": "fc1c4baf-c12e-4611-8171-06e4982658d6"
      },
      "outputs": [
        {
          "output_type": "execute_result",
          "data": {
            "text/plain": [
              "{'buffalo': 0, 'elephant': 1, 'rhino': 2, 'zebra': 3}"
            ]
          },
          "metadata": {},
          "execution_count": 27
        }
      ],
      "source": [
        "training_set.class_indices # to see classes of our dataset"
      ]
    },
    {
      "cell_type": "code",
      "execution_count": null,
      "metadata": {
        "id": "WcVzzytnMWAL"
      },
      "outputs": [],
      "source": []
    },
    {
      "cell_type": "markdown",
      "metadata": {
        "id": "38NPI4B5MWAL"
      },
      "source": [
        "## Task 5: Model Training"
      ]
    },
    {
      "cell_type": "code",
      "execution_count": null,
      "metadata": {
        "colab": {
          "base_uri": "https://localhost:8080/"
        },
        "id": "r_93YvD3MWAL",
        "outputId": "bb4559ae-297c-49b7-e2bf-1a463101667f"
      },
      "outputs": [
        {
          "output_type": "stream",
          "name": "stdout",
          "text": [
            "Epoch 1/100\n",
            "17/17 [==============================] - 23s 1s/step - loss: 1.3944 - accuracy: 0.2373 - val_loss: 1.3854 - val_accuracy: 0.2527\n",
            "Epoch 2/100\n",
            "17/17 [==============================] - 21s 1s/step - loss: 1.3813 - accuracy: 0.2631 - val_loss: 1.3742 - val_accuracy: 0.2500\n",
            "Epoch 3/100\n",
            "17/17 [==============================] - 20s 1s/step - loss: 1.3780 - accuracy: 0.2987 - val_loss: 1.3652 - val_accuracy: 0.4016\n",
            "Epoch 4/100\n",
            "17/17 [==============================] - 20s 1s/step - loss: 1.3788 - accuracy: 0.3013 - val_loss: 1.3483 - val_accuracy: 0.4229\n",
            "Epoch 5/100\n",
            "17/17 [==============================] - 19s 1s/step - loss: 1.3500 - accuracy: 0.3422 - val_loss: 1.3138 - val_accuracy: 0.3644\n",
            "Epoch 6/100\n",
            "17/17 [==============================] - 20s 1s/step - loss: 1.3405 - accuracy: 0.3298 - val_loss: 1.2828 - val_accuracy: 0.3112\n",
            "Epoch 7/100\n",
            "17/17 [==============================] - 20s 1s/step - loss: 1.2937 - accuracy: 0.3627 - val_loss: 1.2143 - val_accuracy: 0.4388\n",
            "Epoch 8/100\n",
            "17/17 [==============================] - 19s 1s/step - loss: 1.2621 - accuracy: 0.3991 - val_loss: 1.1471 - val_accuracy: 0.4840\n",
            "Epoch 9/100\n",
            "17/17 [==============================] - 21s 1s/step - loss: 1.2074 - accuracy: 0.4311 - val_loss: 1.1538 - val_accuracy: 0.4654\n",
            "Epoch 10/100\n",
            "17/17 [==============================] - 18s 1s/step - loss: 1.1618 - accuracy: 0.4551 - val_loss: 1.0315 - val_accuracy: 0.5293\n",
            "Epoch 11/100\n",
            "17/17 [==============================] - 19s 1s/step - loss: 1.1340 - accuracy: 0.4782 - val_loss: 1.1057 - val_accuracy: 0.5186\n",
            "Epoch 12/100\n",
            "17/17 [==============================] - 19s 1s/step - loss: 1.0932 - accuracy: 0.5102 - val_loss: 0.9859 - val_accuracy: 0.5718\n",
            "Epoch 13/100\n",
            "17/17 [==============================] - 20s 1s/step - loss: 1.0865 - accuracy: 0.5147 - val_loss: 1.1040 - val_accuracy: 0.5239\n",
            "Epoch 14/100\n",
            "17/17 [==============================] - 20s 1s/step - loss: 1.0834 - accuracy: 0.4880 - val_loss: 0.9665 - val_accuracy: 0.5718\n",
            "Epoch 15/100\n",
            "17/17 [==============================] - 19s 1s/step - loss: 1.0747 - accuracy: 0.5244 - val_loss: 1.0086 - val_accuracy: 0.5505\n",
            "Epoch 16/100\n",
            "17/17 [==============================] - 19s 1s/step - loss: 1.0278 - accuracy: 0.5502 - val_loss: 0.9457 - val_accuracy: 0.5612\n",
            "Epoch 17/100\n",
            "17/17 [==============================] - 20s 1s/step - loss: 1.0193 - accuracy: 0.5333 - val_loss: 1.1476 - val_accuracy: 0.4840\n",
            "Epoch 18/100\n",
            "17/17 [==============================] - 19s 1s/step - loss: 1.0282 - accuracy: 0.5182 - val_loss: 0.9737 - val_accuracy: 0.5745\n",
            "Epoch 19/100\n",
            "17/17 [==============================] - 21s 1s/step - loss: 1.0258 - accuracy: 0.5431 - val_loss: 0.9875 - val_accuracy: 0.5718\n",
            "Epoch 20/100\n",
            "17/17 [==============================] - 19s 1s/step - loss: 1.0047 - accuracy: 0.5324 - val_loss: 1.0028 - val_accuracy: 0.5691\n",
            "Epoch 21/100\n",
            "17/17 [==============================] - 19s 1s/step - loss: 0.9904 - accuracy: 0.5369 - val_loss: 0.9917 - val_accuracy: 0.5505\n",
            "Epoch 22/100\n",
            "17/17 [==============================] - 19s 1s/step - loss: 1.0192 - accuracy: 0.5422 - val_loss: 0.9215 - val_accuracy: 0.6330\n",
            "Epoch 23/100\n",
            "17/17 [==============================] - 20s 1s/step - loss: 1.0038 - accuracy: 0.5422 - val_loss: 0.9582 - val_accuracy: 0.5957\n",
            "Epoch 24/100\n",
            "17/17 [==============================] - 19s 1s/step - loss: 0.9908 - accuracy: 0.5431 - val_loss: 1.0326 - val_accuracy: 0.5691\n",
            "Epoch 25/100\n",
            "17/17 [==============================] - 20s 1s/step - loss: 0.9873 - accuracy: 0.5573 - val_loss: 0.9997 - val_accuracy: 0.5957\n",
            "Epoch 26/100\n",
            "17/17 [==============================] - 20s 1s/step - loss: 0.9608 - accuracy: 0.5716 - val_loss: 0.9460 - val_accuracy: 0.5638\n",
            "Epoch 27/100\n",
            "17/17 [==============================] - 28s 2s/step - loss: 0.9600 - accuracy: 0.5627 - val_loss: 0.9768 - val_accuracy: 0.5904\n",
            "Epoch 28/100\n",
            "17/17 [==============================] - 19s 1s/step - loss: 0.9471 - accuracy: 0.5858 - val_loss: 0.9345 - val_accuracy: 0.5878\n",
            "Epoch 29/100\n",
            "17/17 [==============================] - 20s 1s/step - loss: 0.9804 - accuracy: 0.5502 - val_loss: 0.9240 - val_accuracy: 0.5957\n",
            "Epoch 30/100\n",
            "17/17 [==============================] - 19s 1s/step - loss: 0.9490 - accuracy: 0.5689 - val_loss: 0.9717 - val_accuracy: 0.5798\n",
            "Epoch 31/100\n",
            "17/17 [==============================] - 19s 1s/step - loss: 0.9406 - accuracy: 0.5884 - val_loss: 1.0802 - val_accuracy: 0.5559\n",
            "Epoch 32/100\n",
            "17/17 [==============================] - 19s 1s/step - loss: 0.9398 - accuracy: 0.5840 - val_loss: 0.9916 - val_accuracy: 0.5745\n",
            "Epoch 33/100\n",
            "17/17 [==============================] - 20s 1s/step - loss: 0.9231 - accuracy: 0.5956 - val_loss: 0.9799 - val_accuracy: 0.5665\n",
            "Epoch 34/100\n",
            "17/17 [==============================] - 19s 1s/step - loss: 0.9288 - accuracy: 0.5902 - val_loss: 0.8697 - val_accuracy: 0.6436\n",
            "Epoch 35/100\n",
            "17/17 [==============================] - 19s 1s/step - loss: 0.9494 - accuracy: 0.5831 - val_loss: 0.8615 - val_accuracy: 0.6410\n",
            "Epoch 36/100\n",
            "17/17 [==============================] - 20s 1s/step - loss: 0.9144 - accuracy: 0.5787 - val_loss: 1.0624 - val_accuracy: 0.5718\n",
            "Epoch 37/100\n",
            "17/17 [==============================] - 19s 1s/step - loss: 0.9140 - accuracy: 0.5911 - val_loss: 0.8354 - val_accuracy: 0.6436\n",
            "Epoch 38/100\n",
            "17/17 [==============================] - 19s 1s/step - loss: 0.8854 - accuracy: 0.6133 - val_loss: 0.8605 - val_accuracy: 0.6223\n",
            "Epoch 39/100\n",
            "17/17 [==============================] - 19s 1s/step - loss: 0.9043 - accuracy: 0.5902 - val_loss: 0.8882 - val_accuracy: 0.6144\n",
            "Epoch 40/100\n",
            "17/17 [==============================] - 20s 1s/step - loss: 0.9106 - accuracy: 0.5751 - val_loss: 0.8739 - val_accuracy: 0.6277\n",
            "Epoch 41/100\n",
            "17/17 [==============================] - 20s 1s/step - loss: 0.9031 - accuracy: 0.6169 - val_loss: 0.9153 - val_accuracy: 0.5957\n",
            "Epoch 42/100\n",
            "17/17 [==============================] - 20s 1s/step - loss: 0.9274 - accuracy: 0.5884 - val_loss: 0.9469 - val_accuracy: 0.5559\n",
            "Epoch 43/100\n",
            "17/17 [==============================] - 18s 1s/step - loss: 0.8981 - accuracy: 0.6196 - val_loss: 0.9174 - val_accuracy: 0.5824\n",
            "Epoch 44/100\n",
            "17/17 [==============================] - 19s 1s/step - loss: 0.8911 - accuracy: 0.5956 - val_loss: 0.9152 - val_accuracy: 0.5824\n",
            "Epoch 45/100\n",
            "17/17 [==============================] - 20s 1s/step - loss: 0.9040 - accuracy: 0.6160 - val_loss: 0.9841 - val_accuracy: 0.5771\n",
            "Epoch 46/100\n",
            "17/17 [==============================] - 21s 1s/step - loss: 0.8784 - accuracy: 0.6151 - val_loss: 0.9465 - val_accuracy: 0.5931\n",
            "Epoch 47/100\n",
            "17/17 [==============================] - 25s 1s/step - loss: 0.9016 - accuracy: 0.6142 - val_loss: 0.8943 - val_accuracy: 0.6117\n",
            "Epoch 48/100\n",
            "17/17 [==============================] - 20s 1s/step - loss: 0.9113 - accuracy: 0.6080 - val_loss: 0.9383 - val_accuracy: 0.5824\n",
            "Epoch 49/100\n",
            "17/17 [==============================] - 20s 1s/step - loss: 0.8871 - accuracy: 0.5956 - val_loss: 0.8724 - val_accuracy: 0.6197\n",
            "Epoch 50/100\n",
            "17/17 [==============================] - 20s 1s/step - loss: 0.8682 - accuracy: 0.6124 - val_loss: 0.8720 - val_accuracy: 0.6410\n",
            "Epoch 51/100\n",
            "17/17 [==============================] - 20s 1s/step - loss: 0.8920 - accuracy: 0.6107 - val_loss: 0.9487 - val_accuracy: 0.5851\n",
            "Epoch 52/100\n",
            "17/17 [==============================] - 20s 1s/step - loss: 0.8894 - accuracy: 0.6213 - val_loss: 1.0704 - val_accuracy: 0.5479\n",
            "Epoch 53/100\n",
            "17/17 [==============================] - 20s 1s/step - loss: 0.8482 - accuracy: 0.6231 - val_loss: 0.9006 - val_accuracy: 0.6144\n",
            "Epoch 54/100\n",
            "17/17 [==============================] - 19s 1s/step - loss: 0.8973 - accuracy: 0.6116 - val_loss: 0.8464 - val_accuracy: 0.6436\n",
            "Epoch 55/100\n",
            "17/17 [==============================] - 19s 1s/step - loss: 0.8763 - accuracy: 0.6009 - val_loss: 0.9156 - val_accuracy: 0.6170\n",
            "Epoch 56/100\n",
            "17/17 [==============================] - 24s 1s/step - loss: 0.8720 - accuracy: 0.6222 - val_loss: 0.8916 - val_accuracy: 0.6330\n",
            "Epoch 57/100\n",
            "17/17 [==============================] - 21s 1s/step - loss: 0.8517 - accuracy: 0.6373 - val_loss: 0.9065 - val_accuracy: 0.6170\n",
            "Epoch 58/100\n",
            "17/17 [==============================] - 20s 1s/step - loss: 0.8498 - accuracy: 0.6124 - val_loss: 0.9730 - val_accuracy: 0.5851\n",
            "Epoch 59/100\n",
            "17/17 [==============================] - 25s 1s/step - loss: 0.8769 - accuracy: 0.6089 - val_loss: 0.9023 - val_accuracy: 0.6064\n",
            "Epoch 60/100\n",
            "17/17 [==============================] - 20s 1s/step - loss: 0.8441 - accuracy: 0.6329 - val_loss: 0.8368 - val_accuracy: 0.6622\n",
            "Epoch 61/100\n",
            "17/17 [==============================] - 20s 1s/step - loss: 0.8415 - accuracy: 0.6329 - val_loss: 0.9940 - val_accuracy: 0.5612\n",
            "Epoch 62/100\n",
            "17/17 [==============================] - 20s 1s/step - loss: 0.8597 - accuracy: 0.6169 - val_loss: 0.8722 - val_accuracy: 0.6037\n",
            "Epoch 63/100\n",
            "17/17 [==============================] - 19s 1s/step - loss: 0.8486 - accuracy: 0.6302 - val_loss: 0.9806 - val_accuracy: 0.5878\n",
            "Epoch 64/100\n",
            "17/17 [==============================] - 20s 1s/step - loss: 0.8552 - accuracy: 0.6124 - val_loss: 1.0210 - val_accuracy: 0.5585\n",
            "Epoch 65/100\n",
            "17/17 [==============================] - 20s 1s/step - loss: 0.8606 - accuracy: 0.6071 - val_loss: 0.9980 - val_accuracy: 0.5798\n",
            "Epoch 66/100\n",
            "17/17 [==============================] - 19s 1s/step - loss: 0.8449 - accuracy: 0.6213 - val_loss: 1.0284 - val_accuracy: 0.5638\n",
            "Epoch 67/100\n",
            "17/17 [==============================] - 20s 1s/step - loss: 0.8442 - accuracy: 0.6302 - val_loss: 0.9278 - val_accuracy: 0.6064\n",
            "Epoch 68/100\n",
            "17/17 [==============================] - 25s 1s/step - loss: 0.8532 - accuracy: 0.6258 - val_loss: 0.9143 - val_accuracy: 0.5878\n",
            "Epoch 69/100\n",
            "17/17 [==============================] - 26s 2s/step - loss: 0.8364 - accuracy: 0.6169 - val_loss: 1.0852 - val_accuracy: 0.5479\n",
            "Epoch 70/100\n",
            "17/17 [==============================] - 25s 1s/step - loss: 0.8470 - accuracy: 0.6418 - val_loss: 0.9293 - val_accuracy: 0.6197\n",
            "Epoch 71/100\n",
            "17/17 [==============================] - 21s 1s/step - loss: 0.8539 - accuracy: 0.6151 - val_loss: 0.8649 - val_accuracy: 0.6383\n",
            "Epoch 72/100\n",
            "17/17 [==============================] - 26s 2s/step - loss: 0.8290 - accuracy: 0.6427 - val_loss: 0.8077 - val_accuracy: 0.6729\n",
            "Epoch 73/100\n",
            "17/17 [==============================] - 26s 1s/step - loss: 0.8398 - accuracy: 0.6249 - val_loss: 0.8646 - val_accuracy: 0.6410\n",
            "Epoch 74/100\n",
            "17/17 [==============================] - 20s 1s/step - loss: 0.8462 - accuracy: 0.6293 - val_loss: 0.8450 - val_accuracy: 0.6543\n",
            "Epoch 75/100\n",
            "17/17 [==============================] - 25s 1s/step - loss: 0.8509 - accuracy: 0.6222 - val_loss: 0.8051 - val_accuracy: 0.6755\n",
            "Epoch 76/100\n",
            "17/17 [==============================] - 25s 1s/step - loss: 0.8512 - accuracy: 0.6249 - val_loss: 0.8616 - val_accuracy: 0.6516\n",
            "Epoch 77/100\n",
            "17/17 [==============================] - 21s 1s/step - loss: 0.8027 - accuracy: 0.6542 - val_loss: 0.9117 - val_accuracy: 0.6383\n",
            "Epoch 78/100\n",
            "17/17 [==============================] - 20s 1s/step - loss: 0.8215 - accuracy: 0.6276 - val_loss: 0.8860 - val_accuracy: 0.6410\n",
            "Epoch 79/100\n",
            "17/17 [==============================] - 20s 1s/step - loss: 0.8129 - accuracy: 0.6427 - val_loss: 0.9450 - val_accuracy: 0.5878\n",
            "Epoch 80/100\n",
            "17/17 [==============================] - 26s 2s/step - loss: 0.8115 - accuracy: 0.6311 - val_loss: 0.9406 - val_accuracy: 0.5851\n",
            "Epoch 81/100\n",
            "17/17 [==============================] - 26s 1s/step - loss: 0.8041 - accuracy: 0.6524 - val_loss: 0.8998 - val_accuracy: 0.5984\n",
            "Epoch 82/100\n",
            "17/17 [==============================] - 21s 1s/step - loss: 0.8037 - accuracy: 0.6569 - val_loss: 1.0076 - val_accuracy: 0.5798\n",
            "Epoch 83/100\n",
            "17/17 [==============================] - 19s 1s/step - loss: 0.8131 - accuracy: 0.6436 - val_loss: 1.1596 - val_accuracy: 0.5479\n",
            "Epoch 84/100\n",
            "17/17 [==============================] - 19s 1s/step - loss: 0.8283 - accuracy: 0.6293 - val_loss: 0.9975 - val_accuracy: 0.5851\n",
            "Epoch 85/100\n",
            "17/17 [==============================] - 20s 1s/step - loss: 0.7903 - accuracy: 0.6524 - val_loss: 0.9633 - val_accuracy: 0.6011\n",
            "Epoch 86/100\n",
            "17/17 [==============================] - 20s 1s/step - loss: 0.8154 - accuracy: 0.6427 - val_loss: 0.9694 - val_accuracy: 0.5984\n",
            "Epoch 87/100\n",
            "17/17 [==============================] - 19s 1s/step - loss: 0.8237 - accuracy: 0.6204 - val_loss: 0.8560 - val_accuracy: 0.6356\n",
            "Epoch 88/100\n",
            "17/17 [==============================] - 20s 1s/step - loss: 0.8303 - accuracy: 0.6338 - val_loss: 0.9070 - val_accuracy: 0.6037\n",
            "Epoch 89/100\n",
            "17/17 [==============================] - 21s 1s/step - loss: 0.8118 - accuracy: 0.6507 - val_loss: 0.9310 - val_accuracy: 0.5851\n",
            "Epoch 90/100\n",
            "17/17 [==============================] - 20s 1s/step - loss: 0.7989 - accuracy: 0.6364 - val_loss: 0.8353 - val_accuracy: 0.6596\n",
            "Epoch 91/100\n",
            "17/17 [==============================] - 18s 1s/step - loss: 0.7947 - accuracy: 0.6676 - val_loss: 0.9655 - val_accuracy: 0.6144\n",
            "Epoch 92/100\n",
            "17/17 [==============================] - 20s 1s/step - loss: 0.8035 - accuracy: 0.6560 - val_loss: 0.9986 - val_accuracy: 0.5878\n",
            "Epoch 93/100\n",
            "17/17 [==============================] - 20s 1s/step - loss: 0.8158 - accuracy: 0.6347 - val_loss: 0.9467 - val_accuracy: 0.6011\n",
            "Epoch 94/100\n",
            "17/17 [==============================] - 20s 1s/step - loss: 0.8424 - accuracy: 0.6356 - val_loss: 0.8471 - val_accuracy: 0.6463\n",
            "Epoch 95/100\n",
            "17/17 [==============================] - 24s 1s/step - loss: 0.7952 - accuracy: 0.6400 - val_loss: 0.8603 - val_accuracy: 0.6516\n",
            "Epoch 96/100\n",
            "17/17 [==============================] - 20s 1s/step - loss: 0.7807 - accuracy: 0.6702 - val_loss: 0.9567 - val_accuracy: 0.6090\n",
            "Epoch 97/100\n",
            "17/17 [==============================] - 21s 1s/step - loss: 0.7855 - accuracy: 0.6640 - val_loss: 1.0492 - val_accuracy: 0.5718\n",
            "Epoch 98/100\n",
            "17/17 [==============================] - 20s 1s/step - loss: 0.7915 - accuracy: 0.6640 - val_loss: 1.0654 - val_accuracy: 0.5798\n",
            "Epoch 99/100\n",
            "17/17 [==============================] - 20s 1s/step - loss: 0.7929 - accuracy: 0.6596 - val_loss: 0.9671 - val_accuracy: 0.6117\n",
            "Epoch 100/100\n",
            "17/17 [==============================] - 20s 1s/step - loss: 0.7755 - accuracy: 0.6569 - val_loss: 0.9471 - val_accuracy: 0.6037\n"
          ]
        }
      ],
      "source": [
        "history = model.fit(\n",
        "        training_set,\n",
        "        steps_per_epoch=(1125/64),\n",
        "        epochs=100,\n",
        "        validation_data=test_set,\n",
        "        validation_steps=(376/64))"
      ]
    },
    {
      "cell_type": "code",
      "execution_count": null,
      "metadata": {
        "id": "_qTs0W6yMWAL"
      },
      "outputs": [],
      "source": []
    },
    {
      "cell_type": "markdown",
      "metadata": {
        "id": "CSxQ-TpJMWAL"
      },
      "source": [
        "## Task 6: Accuracy"
      ]
    },
    {
      "cell_type": "code",
      "execution_count": null,
      "metadata": {
        "id": "urbe_NFwMWAM",
        "colab": {
          "base_uri": "https://localhost:8080/",
          "height": 943
        },
        "outputId": "fa3df458-ba2c-45c3-c28b-86ac83f7483b"
      },
      "outputs": [
        {
          "output_type": "display_data",
          "data": {
            "text/plain": [
              "<Figure size 640x480 with 1 Axes>"
            ],
            "image/png": "[encoded data removed]"
          },
          "metadata": {}
        },
        {
          "output_type": "display_data",
          "data": {
            "text/plain": [
              "<Figure size 640x480 with 1 Axes>"
            ],
            "image/png": "[encoded data removed]"
          },
          "metadata": {}
        }
      ],
      "source": [
        "#Graphing our training and validation\n",
        "accuracy = history.history['accuracy']\n",
        "val_accuracy = history.history['val_accuracy']\n",
        "loss = history.history['loss']\n",
        "val_loss = history.history['val_loss']\n",
        "epochs = range(len(accuracy))\n",
        "plt.plot(epochs, accuracy, 'r', label='Training acc')\n",
        "plt.plot(epochs, val_accuracy, 'b', label='Validation acc')\n",
        "plt.title('Training and validation accuracy')\n",
        "plt.ylabel('accuracy')\n",
        "plt.xlabel('epoch')\n",
        "plt.legend()\n",
        "plt.figure()\n",
        "plt.plot(epochs, loss, 'r', label='Training loss')\n",
        "plt.plot(epochs, val_loss, 'b', label='Validation loss')\n",
        "plt.title('Training and validation loss')\n",
        "plt.ylabel('loss')\n",
        "plt.xlabel('epoch')\n",
        "plt.legend()\n",
        "plt.show()"
      ]
    },
    {
      "cell_type": "code",
      "execution_count": null,
      "metadata": {
        "id": "HhKwH8W9MWAM"
      },
      "outputs": [],
      "source": []
    },
    {
      "cell_type": "code",
      "execution_count": null,
      "metadata": {
        "id": "Yh8gT4eAMWAM"
      },
      "outputs": [],
      "source": [
        "#model.save(\"simple_animal_classification_model.h5\")#save model"
      ]
    },
    {
      "cell_type": "code",
      "execution_count": null,
      "metadata": {
        "id": "O6jUkO3QMWAM"
      },
      "outputs": [],
      "source": [
        "#from keras.models import load_model\n",
        "#model=load_model(\"simple_animal_classification_model.h5\")"
      ]
    },
    {
      "cell_type": "markdown",
      "metadata": {
        "id": "1rlPrzQWMWAN"
      },
      "source": [
        "## Task 7: Testing"
      ]
    },
    {
      "cell_type": "code",
      "execution_count": null,
      "metadata": {
        "id": "i4rV8h-5MWAN",
        "colab": {
          "base_uri": "https://localhost:8080/",
          "height": 49
        },
        "outputId": "7c2b390e-ce1b-4548-fa30-0f602340a996"
      },
      "outputs": [
        {
          "output_type": "execute_result",
          "data": {
            "text/plain": [
              "<PIL.Image.Image image mode=L size=32x32>"
            ],
            "image/png": "[encoded data removed]"
          },
          "metadata": {},
          "execution_count": 30
        }
      ],
      "source": [
        "from keras.preprocessing import image\n",
        "test_image = image.load_img(\"../input/african-wildlife/zebra/001.jpg\",target_size=(32,32),color_mode='grayscale')\n",
        "test_image\n"
      ]
    },
    {
      "cell_type": "code",
      "execution_count": null,
      "metadata": {
        "id": "8LjOiFb3MWAN"
      },
      "outputs": [],
      "source": [
        "test_image = image.img_to_array(test_image)\n",
        "test_image = np.expand_dims(test_image,axis=0)"
      ]
    },
    {
      "cell_type": "code",
      "execution_count": null,
      "metadata": {
        "id": "SfGVo3mWMWAN",
        "colab": {
          "base_uri": "https://localhost:8080/"
        },
        "outputId": "5a626064-1485-42c0-e23a-2b6e0b08387e"
      },
      "outputs": [
        {
          "output_type": "stream",
          "name": "stdout",
          "text": [
            "1/1 [==============================] - 0s 211ms/step\n",
            "zebra\n"
          ]
        }
      ],
      "source": [
        "result = model.predict(test_image)\n",
        "\n",
        "my_dict=training_set.class_indices\n",
        "def get_key(val):\n",
        "    for key, value in my_dict.items():\n",
        "         if val == value:\n",
        "             return key\n",
        "\n",
        "    return \"key doesn't exist\"\n",
        "\n",
        "pred=list(result[0])\n",
        "for i in range(len(pred)):\n",
        "    if pred[i]!=0:\n",
        "        print(get_key(i))"
      ]
    },
    {
      "cell_type": "code",
      "execution_count": null,
      "metadata": {
        "id": "T6gBjrgOMWAO"
      },
      "outputs": [],
      "source": []
    },
    {
      "cell_type": "code",
      "execution_count": null,
      "metadata": {
        "id": "NtsMa4czMWAO"
      },
      "outputs": [],
      "source": []
    }
  ],
  "metadata": {
    "colab": {
      "provenance": []
    },
    "kernelspec": {
      "display_name": "Python 3",
      "language": "python",
      "name": "python3"
    },
    "language_info": {
      "codemirror_mode": {
        "name": "ipython",
        "version": 3
      },
      "file_extension": ".py",
      "mimetype": "text/x-python",
      "name": "python",
      "nbconvert_exporter": "python",
      "pygments_lexer": "ipython3",
      "version": "3.6.4"
    }
  },
  "nbformat": 4,
  "nbformat_minor": 0
}